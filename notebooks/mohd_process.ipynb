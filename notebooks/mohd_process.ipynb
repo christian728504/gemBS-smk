{
 "cells": [
  {
   "cell_type": "code",
   "execution_count": 29,
   "id": "e4e2ca54",
   "metadata": {},
   "outputs": [],
   "source": [
    "import polars as pl\n",
    "from pathlib import Path\n",
    "import os"
   ]
  },
  {
   "cell_type": "code",
   "execution_count": 30,
   "id": "c3da7534",
   "metadata": {},
   "outputs": [
    {
     "name": "stdout",
     "output_type": "stream",
     "text": [
      "{'EB100001': 'CCH_0001_WB_01', 'EB100002': 'CCH_0002_WB_01', 'EB100003': 'CCH_0003_WB_01', 'EB100004': 'CKD_0001_WB_01', 'EB100005': 'CKD_0002_WB_01', 'EB100006': 'CKD_0003_WB_01', 'EB100007': 'EXP_0001_WB_01', 'EB100008': 'EXP_0002_WB_01', 'EB100009': 'EXP_0003_WB_01', 'EB100010': 'MOM_0001_WB_01', 'EB100011': 'MOM_0002_WB_01', 'EB100012': 'MOM_0003_WB_01', 'EB100013': 'UIC_0004_WB_01', 'EB100014': 'UIC_0005_WB_01', 'EB100015': 'UIC_0006_WB_01'}\n"
     ]
    }
   ],
   "source": [
    "site_to_acccession_map = {\n",
    "    \"CCH_0001_WB_01\": \"EB100001\",\n",
    "    \"CCH_0002_WB_01\": \"EB100002\",\n",
    "    \"CCH_0003_WB_01\": \"EB100003\",\n",
    "    \"CKD_0001_WB_01\": \"EB100004\",\n",
    "    \"CKD_0002_WB_01\": \"EB100005\",\n",
    "    \"CKD_0003_WB_01\": \"EB100006\",\n",
    "    \"EXP_0001_WB_01\": \"EB100007\",\n",
    "    \"EXP_0002_WB_01\": \"EB100008\",\n",
    "    \"EXP_0003_WB_01\": \"EB100009\",\n",
    "    \"MOM_0001_WB_01\": \"EB100010\",\n",
    "    \"MOM_0002_WB_01\": \"EB100011\",\n",
    "    \"MOM_0003_WB_01\": \"EB100012\",\n",
    "    \"UIC_0004_WB_01\": \"EB100013\",\n",
    "    \"UIC_0005_WB_01\": \"EB100014\",\n",
    "    \"UIC_0006_WB_01\": \"EB100015\"\n",
    "}\n",
    "\n",
    "site_to_acccession_map = {v: k for k, v in site_to_acccession_map.items()}\n",
    "\n",
    "print(site_to_acccession_map)"
   ]
  },
  {
   "cell_type": "code",
   "execution_count": 33,
   "id": "c84680f7",
   "metadata": {},
   "outputs": [
    {
     "name": "stdout",
     "output_type": "stream",
     "text": [
      "shape: (15, 4)\n",
      "┌──────────┬────────────────┬─────────────────────────────────┬─────────────────────────────────┐\n",
      "│ Barcode  ┆ Dataset        ┆ File1                           ┆ File2                           │\n",
      "│ ---      ┆ ---            ┆ ---                             ┆ ---                             │\n",
      "│ str      ┆ str            ┆ str                             ┆ str                             │\n",
      "╞══════════╪════════════════╪═════════════════════════════════╪═════════════════════════════════╡\n",
      "│ EB100001 ┆ CCH_0001_WB_01 ┆ /zata/zippy/ramirezc/gembs_smk… ┆ /zata/zippy/ramirezc/gembs_smk… │\n",
      "│ EB100002 ┆ CCH_0002_WB_01 ┆ /zata/zippy/ramirezc/gembs_smk… ┆ /zata/zippy/ramirezc/gembs_smk… │\n",
      "│ EB100003 ┆ CCH_0003_WB_01 ┆ /zata/zippy/ramirezc/gembs_smk… ┆ /zata/zippy/ramirezc/gembs_smk… │\n",
      "│ EB100004 ┆ CKD_0001_WB_01 ┆ /zata/zippy/ramirezc/gembs_smk… ┆ /zata/zippy/ramirezc/gembs_smk… │\n",
      "│ EB100005 ┆ CKD_0002_WB_01 ┆ /zata/zippy/ramirezc/gembs_smk… ┆ /zata/zippy/ramirezc/gembs_smk… │\n",
      "│ …        ┆ …              ┆ …                               ┆ …                               │\n",
      "│ EB100011 ┆ MOM_0002_WB_01 ┆ /zata/zippy/ramirezc/gembs_smk… ┆ /zata/zippy/ramirezc/gembs_smk… │\n",
      "│ EB100012 ┆ MOM_0003_WB_01 ┆ /zata/zippy/ramirezc/gembs_smk… ┆ /zata/zippy/ramirezc/gembs_smk… │\n",
      "│ EB100013 ┆ UIC_0004_WB_01 ┆ /zata/zippy/ramirezc/gembs_smk… ┆ /zata/zippy/ramirezc/gembs_smk… │\n",
      "│ EB100014 ┆ UIC_0005_WB_01 ┆ /zata/zippy/ramirezc/gembs_smk… ┆ /zata/zippy/ramirezc/gembs_smk… │\n",
      "│ EB100015 ┆ UIC_0006_WB_01 ┆ /zata/zippy/ramirezc/gembs_smk… ┆ /zata/zippy/ramirezc/gembs_smk… │\n",
      "└──────────┴────────────────┴─────────────────────────────────┴─────────────────────────────────┘\n"
     ]
    }
   ],
   "source": [
    "fastq_files = sorted(list(Path(\"/zata/zippy/ramirezc/gembs_smk/.test3\").glob(\"*.fastq.gz\")))\n",
    "fastq_files = [str(file) for file in fastq_files]\n",
    "\n",
    "records = []\n",
    "for file in fastq_files:\n",
    "    basename = os.path.basename(file)\n",
    "    parts = basename.split(\"_\")\n",
    "    record = {\n",
    "        \"Project\": parts[0],\n",
    "        \"Assay\": \"WGBS\",\n",
    "        \"Barcode\": parts[1],\n",
    "        \"Dataset\": site_to_acccession_map[parts[1]],\n",
    "        \"Read\": parts[2].split(\".\")[0],\n",
    "        \"File\": file\n",
    "    }\n",
    "    records.append(record)\n",
    "    \n",
    "wgbs_metadata = pl.from_dicts(records).pivot(\n",
    "        index=[\"Barcode\", \"Project\", \"Assay\", \"Dataset\"],\n",
    "        on=\"Read\", \n",
    "        values=\"File\",\n",
    "        maintain_order=True\n",
    "    ).rename({\"R1\": \"File1\", \"R2\": \"File2\", }).drop(\"Project\", \"Assay\")\n",
    "\n",
    "wgbs_metadata.write_csv(\"/zata/zippy/ramirezc/gembs_smk/results/gembs_metadata.csv\")\n",
    "print(wgbs_metadata)"
   ]
  },
  {
   "cell_type": "code",
   "execution_count": null,
   "id": "edcdfcb1",
   "metadata": {},
   "outputs": [],
   "source": []
  },
  {
   "cell_type": "code",
   "execution_count": null,
   "id": "0f514da6",
   "metadata": {},
   "outputs": [],
   "source": []
  }
 ],
 "metadata": {
  "kernelspec": {
   "display_name": ".venv",
   "language": "python",
   "name": "python3"
  },
  "language_info": {
   "codemirror_mode": {
    "name": "ipython",
    "version": 3
   },
   "file_extension": ".py",
   "mimetype": "text/x-python",
   "name": "python",
   "nbconvert_exporter": "python",
   "pygments_lexer": "ipython3",
   "version": "3.12.9"
  }
 },
 "nbformat": 4,
 "nbformat_minor": 5
}
