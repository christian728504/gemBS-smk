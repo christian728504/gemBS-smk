{
 "cells": [
  {
   "cell_type": "code",
   "execution_count": 53,
   "id": "0b389827",
   "metadata": {},
   "outputs": [],
   "source": [
    "import polars as pl"
   ]
  },
  {
   "cell_type": "code",
   "execution_count": 55,
   "id": "ec68aea4",
   "metadata": {},
   "outputs": [],
   "source": [
    "metadata = pl.read_csv(\"/zata/zippy/ramirezc/gembs_smk/.test2/?type=Experiment&%40id=%2Fexperiments%2FENCSR442FIY%2F&files.output_type=reads&files.output_category=raw+data\", separator=\"\\t\")"
   ]
  },
  {
   "cell_type": "code",
   "execution_count": 3,
   "id": "7fea1170",
   "metadata": {},
   "outputs": [
    {
     "data": {
      "text/html": [
       "<div><style>\n",
       ".dataframe > thead > tr,\n",
       ".dataframe > tbody > tr {\n",
       "  text-align: right;\n",
       "  white-space: pre-wrap;\n",
       "}\n",
       "</style>\n",
       "<small>shape: (4, 59)</small><table border=\"1\" class=\"dataframe\"><thead><tr><th>File accession</th><th>File format</th><th>File type</th><th>File format type</th><th>Output type</th><th>File assembly</th><th>Experiment accession</th><th>Assay</th><th>Donor(s)</th><th>Biosample term id</th><th>Biosample term name</th><th>Biosample type</th><th>Biosample organism</th><th>Biosample treatments</th><th>Biosample treatments amount</th><th>Biosample treatments duration</th><th>Biosample genetic modifications methods</th><th>Biosample genetic modifications categories</th><th>Biosample genetic modifications targets</th><th>Biosample genetic modifications gene targets</th><th>Biosample genetic modifications site coordinates</th><th>Biosample genetic modifications zygosity</th><th>Experiment target</th><th>Library made from</th><th>Library depleted in</th><th>Library extraction method</th><th>Library lysis method</th><th>Library crosslinking method</th><th>Library strand specific</th><th>Experiment date released</th><th>Project</th><th>RBNS protein concentration</th><th>Library fragmentation method</th><th>Library size range</th><th>Biological replicate(s)</th><th>Technical replicate(s)</th><th>Read length</th><th>Mapped read length</th><th>Run type</th><th>Paired end</th><th>Paired with</th><th>Index of</th><th>Derived from</th><th>Size</th><th>Lab</th><th>md5sum</th><th>dbxrefs</th><th>File download URL</th><th>Genome annotation</th><th>Platform</th><th>Controlled by</th><th>File Status</th><th>s3_uri</th><th>Azure URL</th><th>File analysis title</th><th>File analysis status</th><th>Audit WARNING</th><th>Audit NOT_COMPLIANT</th><th>Audit ERROR</th></tr><tr><td>str</td><td>str</td><td>str</td><td>str</td><td>str</td><td>str</td><td>str</td><td>str</td><td>str</td><td>str</td><td>str</td><td>str</td><td>str</td><td>str</td><td>str</td><td>str</td><td>str</td><td>str</td><td>str</td><td>str</td><td>str</td><td>str</td><td>str</td><td>str</td><td>str</td><td>str</td><td>str</td><td>str</td><td>str</td><td>str</td><td>str</td><td>str</td><td>str</td><td>str</td><td>i64</td><td>str</td><td>i64</td><td>str</td><td>str</td><td>i64</td><td>str</td><td>str</td><td>str</td><td>i64</td><td>str</td><td>str</td><td>str</td><td>str</td><td>str</td><td>str</td><td>str</td><td>str</td><td>str</td><td>str</td><td>str</td><td>str</td><td>str</td><td>str</td><td>str</td></tr></thead><tbody><tr><td>&quot;ENCFF413KHN&quot;</td><td>&quot;fastq&quot;</td><td>&quot;fastq&quot;</td><td>null</td><td>&quot;reads&quot;</td><td>null</td><td>&quot;ENCSR765JPC&quot;</td><td>&quot;WGBS&quot;</td><td>&quot;/human-donors/ENCDO000AAD/&quot;</td><td>&quot;EFO:0002067&quot;</td><td>&quot;K562&quot;</td><td>&quot;cell line&quot;</td><td>&quot;Homo sapiens&quot;</td><td>null</td><td>null</td><td>null</td><td>null</td><td>null</td><td>null</td><td>null</td><td>null</td><td>null</td><td>null</td><td>&quot;DNA&quot;</td><td>null</td><td>null</td><td>null</td><td>null</td><td>null</td><td>&quot;2016-03-22&quot;</td><td>&quot;ENCODE&quot;</td><td>null</td><td>&quot;shearing (Covaris generic)&quot;</td><td>&quot;100-300&quot;</td><td>1</td><td>&quot;1_1&quot;</td><td>100</td><td>null</td><td>&quot;paired-ended&quot;</td><td>1</td><td>&quot;/files/ENCFF567DAI/&quot;</td><td>null</td><td>null</td><td>82296261270</td><td>&quot;Richard Myers, HAIB&quot;</td><td>&quot;10f907ee59a2f5bb84630fd918257e…</td><td>&quot;SRA:SRR4235744&quot;</td><td>&quot;https://www.encodeproject.org/…</td><td>null</td><td>&quot;Illumina HiSeq 2500&quot;</td><td>null</td><td>&quot;released&quot;</td><td>&quot;s3://encode-public/2015/07/06/…</td><td>&quot;https://datasetencode.blob.cor…</td><td>null</td><td>null</td><td>&quot;mixed read lengths, low covera…</td><td>&quot;insufficient coverage&quot;</td><td>&quot;missing lambda C conversion ra…</td></tr><tr><td>&quot;ENCFF567DAI&quot;</td><td>&quot;fastq&quot;</td><td>&quot;fastq&quot;</td><td>null</td><td>&quot;reads&quot;</td><td>null</td><td>&quot;ENCSR765JPC&quot;</td><td>&quot;WGBS&quot;</td><td>&quot;/human-donors/ENCDO000AAD/&quot;</td><td>&quot;EFO:0002067&quot;</td><td>&quot;K562&quot;</td><td>&quot;cell line&quot;</td><td>&quot;Homo sapiens&quot;</td><td>null</td><td>null</td><td>null</td><td>null</td><td>null</td><td>null</td><td>null</td><td>null</td><td>null</td><td>null</td><td>&quot;DNA&quot;</td><td>null</td><td>null</td><td>null</td><td>null</td><td>null</td><td>&quot;2016-03-22&quot;</td><td>&quot;ENCODE&quot;</td><td>null</td><td>&quot;shearing (Covaris generic)&quot;</td><td>&quot;100-300&quot;</td><td>1</td><td>&quot;1_1&quot;</td><td>100</td><td>null</td><td>&quot;paired-ended&quot;</td><td>2</td><td>&quot;/files/ENCFF413KHN/&quot;</td><td>null</td><td>null</td><td>79247018841</td><td>&quot;Richard Myers, HAIB&quot;</td><td>&quot;362c730ce3439d9ea8ed158dafdd98…</td><td>&quot;SRA:SRR4235744&quot;</td><td>&quot;https://www.encodeproject.org/…</td><td>null</td><td>&quot;Illumina HiSeq 2500&quot;</td><td>null</td><td>&quot;released&quot;</td><td>&quot;s3://encode-public/2015/07/21/…</td><td>&quot;https://datasetencode.blob.cor…</td><td>null</td><td>null</td><td>&quot;mixed read lengths, low covera…</td><td>&quot;insufficient coverage&quot;</td><td>&quot;missing lambda C conversion ra…</td></tr><tr><td>&quot;ENCFF336KJH&quot;</td><td>&quot;fastq&quot;</td><td>&quot;fastq&quot;</td><td>null</td><td>&quot;reads&quot;</td><td>null</td><td>&quot;ENCSR765JPC&quot;</td><td>&quot;WGBS&quot;</td><td>&quot;/human-donors/ENCDO000AAD/&quot;</td><td>&quot;EFO:0002067&quot;</td><td>&quot;K562&quot;</td><td>&quot;cell line&quot;</td><td>&quot;Homo sapiens&quot;</td><td>null</td><td>null</td><td>null</td><td>null</td><td>null</td><td>null</td><td>null</td><td>null</td><td>null</td><td>null</td><td>&quot;DNA&quot;</td><td>null</td><td>null</td><td>null</td><td>null</td><td>null</td><td>&quot;2016-03-22&quot;</td><td>&quot;ENCODE&quot;</td><td>null</td><td>&quot;shearing (Covaris generic)&quot;</td><td>&quot;100-300&quot;</td><td>2</td><td>&quot;2_1&quot;</td><td>125</td><td>null</td><td>&quot;paired-ended&quot;</td><td>1</td><td>&quot;/files/ENCFF585HYM/&quot;</td><td>null</td><td>null</td><td>43193181424</td><td>&quot;Richard Myers, HAIB&quot;</td><td>&quot;be6dfb07ae352214eb5454dcfcfd5c…</td><td>&quot;SRA:SRR4235743&quot;</td><td>&quot;https://www.encodeproject.org/…</td><td>null</td><td>&quot;Illumina HiSeq 2500&quot;</td><td>null</td><td>&quot;released&quot;</td><td>&quot;s3://encode-public/2015/12/17/…</td><td>&quot;https://datasetencode.blob.cor…</td><td>null</td><td>null</td><td>&quot;mixed read lengths, low covera…</td><td>&quot;insufficient coverage&quot;</td><td>&quot;missing lambda C conversion ra…</td></tr><tr><td>&quot;ENCFF585HYM&quot;</td><td>&quot;fastq&quot;</td><td>&quot;fastq&quot;</td><td>null</td><td>&quot;reads&quot;</td><td>null</td><td>&quot;ENCSR765JPC&quot;</td><td>&quot;WGBS&quot;</td><td>&quot;/human-donors/ENCDO000AAD/&quot;</td><td>&quot;EFO:0002067&quot;</td><td>&quot;K562&quot;</td><td>&quot;cell line&quot;</td><td>&quot;Homo sapiens&quot;</td><td>null</td><td>null</td><td>null</td><td>null</td><td>null</td><td>null</td><td>null</td><td>null</td><td>null</td><td>null</td><td>&quot;DNA&quot;</td><td>null</td><td>null</td><td>null</td><td>null</td><td>null</td><td>&quot;2016-03-22&quot;</td><td>&quot;ENCODE&quot;</td><td>null</td><td>&quot;shearing (Covaris generic)&quot;</td><td>&quot;100-300&quot;</td><td>2</td><td>&quot;2_1&quot;</td><td>125</td><td>null</td><td>&quot;paired-ended&quot;</td><td>2</td><td>&quot;/files/ENCFF336KJH/&quot;</td><td>null</td><td>null</td><td>43251728995</td><td>&quot;Richard Myers, HAIB&quot;</td><td>&quot;1fe84658499147dc8facc51807a2f9…</td><td>&quot;SRA:SRR4235743&quot;</td><td>&quot;https://www.encodeproject.org/…</td><td>null</td><td>&quot;Illumina HiSeq 2500&quot;</td><td>null</td><td>&quot;released&quot;</td><td>&quot;s3://encode-public/2015/12/17/…</td><td>&quot;https://datasetencode.blob.cor…</td><td>null</td><td>null</td><td>&quot;mixed read lengths, low covera…</td><td>&quot;insufficient coverage&quot;</td><td>&quot;missing lambda C conversion ra…</td></tr></tbody></table></div>"
      ],
      "text/plain": [
       "shape: (4, 59)\n",
       "┌─────────────┬────────┬───────┬────────┬───┬─────────────┬─────────────┬─────────────┬────────────┐\n",
       "│ File        ┆ File   ┆ File  ┆ File   ┆ … ┆ File        ┆ Audit       ┆ Audit NOT_C ┆ Audit      │\n",
       "│ accession   ┆ format ┆ type  ┆ format ┆   ┆ analysis    ┆ WARNING     ┆ OMPLIANT    ┆ ERROR      │\n",
       "│ ---         ┆ ---    ┆ ---   ┆ type   ┆   ┆ status      ┆ ---         ┆ ---         ┆ ---        │\n",
       "│ str         ┆ str    ┆ str   ┆ ---    ┆   ┆ ---         ┆ str         ┆ str         ┆ str        │\n",
       "│             ┆        ┆       ┆ str    ┆   ┆ str         ┆             ┆             ┆            │\n",
       "╞═════════════╪════════╪═══════╪════════╪═══╪═════════════╪═════════════╪═════════════╪════════════╡\n",
       "│ ENCFF413KHN ┆ fastq  ┆ fastq ┆ null   ┆ … ┆ null        ┆ mixed read  ┆ insufficien ┆ missing    │\n",
       "│             ┆        ┆       ┆        ┆   ┆             ┆ lengths,    ┆ t coverage  ┆ lambda C   │\n",
       "│             ┆        ┆       ┆        ┆   ┆             ┆ low covera… ┆             ┆ conversion │\n",
       "│             ┆        ┆       ┆        ┆   ┆             ┆             ┆             ┆ ra…        │\n",
       "│ ENCFF567DAI ┆ fastq  ┆ fastq ┆ null   ┆ … ┆ null        ┆ mixed read  ┆ insufficien ┆ missing    │\n",
       "│             ┆        ┆       ┆        ┆   ┆             ┆ lengths,    ┆ t coverage  ┆ lambda C   │\n",
       "│             ┆        ┆       ┆        ┆   ┆             ┆ low covera… ┆             ┆ conversion │\n",
       "│             ┆        ┆       ┆        ┆   ┆             ┆             ┆             ┆ ra…        │\n",
       "│ ENCFF336KJH ┆ fastq  ┆ fastq ┆ null   ┆ … ┆ null        ┆ mixed read  ┆ insufficien ┆ missing    │\n",
       "│             ┆        ┆       ┆        ┆   ┆             ┆ lengths,    ┆ t coverage  ┆ lambda C   │\n",
       "│             ┆        ┆       ┆        ┆   ┆             ┆ low covera… ┆             ┆ conversion │\n",
       "│             ┆        ┆       ┆        ┆   ┆             ┆             ┆             ┆ ra…        │\n",
       "│ ENCFF585HYM ┆ fastq  ┆ fastq ┆ null   ┆ … ┆ null        ┆ mixed read  ┆ insufficien ┆ missing    │\n",
       "│             ┆        ┆       ┆        ┆   ┆             ┆ lengths,    ┆ t coverage  ┆ lambda C   │\n",
       "│             ┆        ┆       ┆        ┆   ┆             ┆ low covera… ┆             ┆ conversion │\n",
       "│             ┆        ┆       ┆        ┆   ┆             ┆             ┆             ┆ ra…        │\n",
       "└─────────────┴────────┴───────┴────────┴───┴─────────────┴─────────────┴─────────────┴────────────┘"
      ]
     },
     "execution_count": 3,
     "metadata": {},
     "output_type": "execute_result"
    }
   ],
   "source": [
    "metadata.head()"
   ]
  },
  {
   "cell_type": "code",
   "execution_count": 58,
   "id": "ed3009ac",
   "metadata": {},
   "outputs": [],
   "source": [
    "slim_metadata = metadata.select(\"File accession\", \"File download URL\", \"Biological replicate(s)\", \"Technical replicate(s)\", \"Run type\", \"Paired end\", \"Paired with\")"
   ]
  },
  {
   "cell_type": "code",
   "execution_count": 59,
   "id": "3f9728df",
   "metadata": {},
   "outputs": [],
   "source": [
    "with_paths = metadata.with_columns(\n",
    "   (\"/zata/zippy/ramirezc/gembs_smk/.test2/\" + pl.col(\"File accession\") + \".fastq.gz\").alias(\"File path\"),\n",
    "   pl.col(\"Paired with\").str.split(\"/\").list[-2]\n",
    ")\n",
    "slim_metadata = with_paths.select(\"File accession\", \"Experiment accession\", \"File path\", \"Biological replicate(s)\", \"Technical replicate(s)\", \"Run type\", \"Paired end\", \"Paired with\")\n",
    "slim_metadata.write_csv(\"/zata/zippy/ramirezc/gembs_smk/.test2/metadata.tsv\", separator=\"\\t\")\n"
   ]
  },
  {
   "cell_type": "code",
   "execution_count": null,
   "id": "e319d6b5",
   "metadata": {},
   "outputs": [
    {
     "data": {
      "text/html": [
       "<div><style>\n",
       ".dataframe > thead > tr,\n",
       ".dataframe > tbody > tr {\n",
       "  text-align: right;\n",
       "  white-space: pre-wrap;\n",
       "}\n",
       "</style>\n",
       "<small>shape: (2, 5)</small><table border=\"1\" class=\"dataframe\"><thead><tr><th>Barcode</th><th>Name</th><th>Dataset</th><th>File1</th><th>File2</th></tr><tr><td>u64</td><td>str</td><td>str</td><td>str</td><td>str</td></tr></thead><tbody><tr><td>12200173259172864394</td><td>&quot;ENCFF413KHN_ENCFF567DAI&quot;</td><td>&quot;ENCSR765JPC&quot;</td><td>&quot;/zata/zippy/ramirezc/gembs_smk…</td><td>&quot;/zata/zippy/ramirezc/gembs_smk…</td></tr><tr><td>14098407479695328579</td><td>&quot;ENCFF336KJH_ENCFF585HYM&quot;</td><td>&quot;ENCSR765JPC&quot;</td><td>&quot;/zata/zippy/ramirezc/gembs_smk…</td><td>&quot;/zata/zippy/ramirezc/gembs_smk…</td></tr></tbody></table></div>"
      ],
      "text/plain": [
       "shape: (2, 5)\n",
       "┌─────────────────────┬────────────────────┬─────────────┬────────────────────┬────────────────────┐\n",
       "│ Barcode             ┆ Name               ┆ Dataset     ┆ File1              ┆ File2              │\n",
       "│ ---                 ┆ ---                ┆ ---         ┆ ---                ┆ ---                │\n",
       "│ u64                 ┆ str                ┆ str         ┆ str                ┆ str                │\n",
       "╞═════════════════════╪════════════════════╪═════════════╪════════════════════╪════════════════════╡\n",
       "│ 1220017325917286439 ┆ ENCFF413KHN_ENCFF5 ┆ ENCSR765JPC ┆ /zata/zippy/ramire ┆ /zata/zippy/ramire │\n",
       "│ 4                   ┆ 67DAI              ┆             ┆ zc/gembs_smk…      ┆ zc/gembs_smk…      │\n",
       "│ 1409840747969532857 ┆ ENCFF336KJH_ENCFF5 ┆ ENCSR765JPC ┆ /zata/zippy/ramire ┆ /zata/zippy/ramire │\n",
       "│ 9                   ┆ 85HYM              ┆             ┆ zc/gembs_smk…      ┆ zc/gembs_smk…      │\n",
       "└─────────────────────┴────────────────────┴─────────────┴────────────────────┴────────────────────┘"
      ]
     },
     "execution_count": 30,
     "metadata": {},
     "output_type": "execute_result"
    }
   ],
   "source": [
    "slim_metadata = pl.read_csv(\"metadata.tsv\", separator=\"\\t\")\n",
    "\n",
    "# # Add one if single-ended\n",
    "# add_one = slim_metadata.with_columns(\n",
    "#     pl.when(pl.col(\"Run type\") == \"single-ended\").then(\n",
    "#         pl.lit(1).alias(\"Paired end\")\n",
    "#     ).otherwise(\n",
    "#         pl.col(\"Paired end\")\n",
    "#     )\n",
    "# )\n",
    "# add_one.head()\n",
    "\n",
    "grouped_read = slim_metadata.group_by(\n",
    "        \"Biological replicate(s)\", \"Technical replicate(s)\"\n",
    "    ).agg(\n",
    "        \"File path\", \"File accession\", \"Experiment accession\"\n",
    "    ).with_columns([\n",
    "        pl.when(pl.col(\"File accession\").list.len() == 1)\n",
    "        .then(pl.col(\"File path\").list.get(0))\n",
    "        .alias(\"File\"),\n",
    "    \n",
    "        pl.when(pl.col(\"File accession\").list.len() == 2)\n",
    "        .then(pl.col(\"File path\").list.get(0))\n",
    "        .alias(\"File1\"),\n",
    "    \n",
    "        pl.when(pl.col(\"File accession\").list.len() == 2)\n",
    "        .then(pl.col(\"File path\").list.get(1))\n",
    "        .alias(\"File2\"),\n",
    "        \n",
    "        pl.col(\"Experiment accession\").list.first().alias(\"Dataset\"),\n",
    "        pl.col(\"File accession\").list.join(\"_\").alias(\"Name\")\n",
    "    ]).with_columns(\n",
    "        pl.col(\"Name\").hash(seed=33).alias(\"Barcode\")\n",
    "    )\n",
    "grouped_read.head()\n",
    "\n",
    "if grouped_read[\"File\"].has_nulls:\n",
    "    gembs_metadata = grouped_read.select(\n",
    "        \"Barcode\", \"Name\", \"Dataset\", \"File1\", \"File2\"\n",
    "    )\n",
    "elif grouped_read[\"File1\"].has_nulls and grouped_read[\"File2\"].has_nulls:\n",
    "    gembs_metadata = grouped_read.select(\n",
    "        \"Barcode\", \"Name\", \"Dataset\", \"File\"\n",
    "    )\n",
    "gembs_metadata.head()\n",
    "\n",
    "\n",
    "grouped_read =  metadata.filter(pl.col(\"Paired end\") == 1).with_columns([\n",
    "    pl.col(\"File accession\").hash(seed=33).alias(\"Barcode\"),\n",
    "    pl.col(\"File accession\").alias(\"Name\"),\n",
    "    pl.col(\"Experiment accession\").alias(\"Dataset\"),\n",
    "    pl.col(\"File path\").alias(\"File1\")\n",
    "]).join(slim_metadata.filter(pl.col(\"Paired end\") == 2).select(\"Paired with\", pl.col(\"File path\").alias(\"File2\")),\n",
    "    left_on=\"File accession\",\n",
    "    right_on=\"Paired with\",\n",
    "    how=\"left\"\n",
    ").select(\"Barcode\", \"Name\", \"Dataset\", \"File1\", \"File2\")\n",
    "grouped_read\n",
    "\n",
    ".rename({\n",
    "    \"\"\n",
    "}).write_csv(output.csv, sep=\"\\t\")"
   ]
  },
  {
   "cell_type": "code",
   "execution_count": 4,
   "id": "64e0fafd",
   "metadata": {},
   "outputs": [
    {
     "name": "stdout",
     "output_type": "stream",
     "text": [
      "results/GRCh38_no_alt_analysis_set_GCA_000001405.15.fasta.gz\n",
      "GRCh38_no_alt_analysis_set_GCA_000001405.15.fasta.gz\n",
      "GRCh38_no_alt_analysis_set_GCA_000001405.15.fasta.gz -> GRCh38_no_alt_analysis_set_GCA_000001405.15\n",
      "reference.fasta -> reference\n",
      "genome.fa.gz -> genome\n",
      "sample.fa -> sample\n",
      "data.txt -> data.txt\n"
     ]
    }
   ],
   "source": [
    "# Test regex parsing\n",
    "import os\n",
    "\n",
    "before = \"results/GRCh38_no_alt_analysis_set_GCA_000001405.15.fasta.gz\"\n",
    "after = os.path.basename(before)\n",
    "print(before)\n",
    "print(after)\n",
    "\n",
    "import re\n",
    "\n",
    "pattern = r\"\\.(fa|fasta|fa\\.gz|fasta\\.gz)$\"\n",
    "\n",
    "test_files = [\n",
    "    \"GRCh38_no_alt_analysis_set_GCA_000001405.15.fasta.gz\",\n",
    "    \"reference.fasta\",\n",
    "    \"genome.fa.gz\", \n",
    "    \"sample.fa\",\n",
    "    \"data.txt\"  # Invalid extension\n",
    "]\n",
    "\n",
    "for filename in test_files:\n",
    "    basename = re.sub(pattern, '', filename)\n",
    "    print(f\"{filename} -> {basename}\")"
   ]
  },
  {
   "cell_type": "code",
   "execution_count": null,
   "id": "317726cf",
   "metadata": {},
   "outputs": [],
   "source": [
    "num_list = ['1', '1', '2']\n",
    "i"
   ]
  },
  {
   "cell_type": "code",
   "execution_count": 50,
   "id": "06d5abc5",
   "metadata": {},
   "outputs": [
    {
     "name": "stdout",
     "output_type": "stream",
     "text": [
      "Extracted: Mapping Stats (Reads) ((5, 7))\n",
      "Extracted: Uniquely Mapping Fragments (MAPQ >= 20) ((2, 2))\n",
      "Extracted: Mapping Stats (Reads) ((5, 7))\n",
      "Extracted: Bisulfite Conversion Rate ((2, 2))\n",
      "Extracted: Correct Pairs ((1, 2))\n",
      "Extracted: Read Lengths ((2, 7))\n",
      "Extracted: Mismatch Distribution ((26, 7))\n"
     ]
    }
   ],
   "source": [
    "import json\n",
    "from bs4 import BeautifulSoup\n",
    "import pandas as pd\n",
    "from io import StringIO\n",
    "from collections import defaultdict\n",
    "\n",
    "table_headings = [\n",
    "    \"Mapping Stats (Reads)\",\n",
    "    \"Uniquely Mapping Fragments (MAPQ >= 20)\",\n",
    "    \"Mapping Stats (Reads)\",\n",
    "    \"Bisulfite Conversion Rate\",\n",
    "    \"Correct Pairs\",\n",
    "    \"Read Lengths\",\n",
    "    \"Mismatch Distribution\",\n",
    "]\n",
    "\n",
    "with open(\"/zata/zippy/ramirezc/gembs_smk/results/report/mapping/14098407479695328579/14098407479695328579.html\", 'r') as f:\n",
    "    html_content = f.read()\n",
    "\n",
    "soup = BeautifulSoup(html_content, 'html.parser')\n",
    "tables_dict = {}\n",
    "\n",
    "for h1 in soup.find_all('h1'):\n",
    "    header_text = h1.get_text(strip=True)\n",
    "    \n",
    "    if header_text in table_headings:\n",
    "        next_table = h1.find_next_sibling('table')\n",
    "        \n",
    "        if next_table:\n",
    "            try:\n",
    "                table_html = StringIO(next_table.prettify())\n",
    "                df_list = pd.read_html(table_html)\n",
    "                \n",
    "                if df_list:\n",
    "                    df = df_list[0]\n",
    "                    tables_dict[header_text] = df\n",
    "                    print(f\"Extracted: {header_text} ({df.shape})\")\n",
    "                    \n",
    "            except Exception as e:\n",
    "                print(f\"Error parsing '{header_text}': {e}\")"
   ]
  },
  {
   "cell_type": "code",
   "execution_count": 51,
   "id": "7a73f461",
   "metadata": {},
   "outputs": [
    {
     "name": "stdout",
     "output_type": "stream",
     "text": [
      "{'Mapping Stats (Reads)':   Base  Total Bases        %     Pair One      %.1     Pair Two      %.2\n",
      "0    A  55533696670  39.20 %  21499697098  30.36 %  34033999572  48.05 %\n",
      "1    C  14741526650  10.41 %    928270609   1.31 %  13813256041  19.50 %\n",
      "2    G  15081376305  10.65 %  13764110705  19.43 %   1317265600   1.86 %\n",
      "3    T  55082066622  38.89 %  34061856734  48.09 %  21020209888  29.68 %\n",
      "4    N   1214177065   0.86 %    572486510   0.81 %    641690555   0.91 %, 'Uniquely Mapping Fragments (MAPQ >= 20)':             Concept      Value\n",
      "0  Unique Fragments  414022243\n",
      "1          % Unique    75.07 %, 'Bisulfite Conversion Rate':                      Bisulfite Conversion Type  Conversion Rate\n",
      "0  Conversion Rate of non-methylated Cytosines              NaN\n",
      "1      Conversion Rate of methylated Cytosines              NaN, 'Correct Pairs':          Concept  Read Pairs\n",
      "0  Correct Pairs   470180178, 'Read Lengths':    Read Length  Total Reads        %   Read One      %.1   Read Two      %.2\n",
      "0          125   1000678912  90.72 %  500339456  90.72 %  500339456  90.72 %\n",
      "1          151    102416450   9.28 %   51208225   9.28 %   51208225   9.28 %, 'Mismatch Distribution':     Number of Mismatches  Total Reads        %   Read One      %.1   Read Two  \\\n",
      "0                      0    667740530  62.81 %  335340871  63.09 %  332399659   \n",
      "1                      1    185895698  17.48 %   95155474  17.90 %   90740224   \n",
      "2                      2     65200782   6.13 %   32941868   6.20 %   32258914   \n",
      "3                      3     36255134   3.41 %   17675190   3.33 %   18579944   \n",
      "4                      4     24853549   2.34 %   11813612   2.22 %   13039937   \n",
      "5                      5     18504500   1.74 %    8661141   1.63 %    9843359   \n",
      "6                      6     14265163   1.34 %    6626794   1.25 %    7638369   \n",
      "7                      7     11297390   1.06 %    5252246   0.99 %    6045144   \n",
      "8                      8      9090790   0.86 %    4233682   0.80 %    4857108   \n",
      "9                      9      7447174   0.70 %    3477212   0.65 %    3969962   \n",
      "10                    10      6134767   0.58 %    2868376   0.54 %    3266391   \n",
      "11                    11      5012019   0.47 %    2344029   0.44 %    2667990   \n",
      "12                    12      4029919   0.38 %    1878861   0.35 %    2151058   \n",
      "13                    13      3197512   0.30 %    1486776   0.28 %    1710736   \n",
      "14                    14      2091956   0.20 %     942863   0.18 %    1149093   \n",
      "15                    15      1536818   0.14 %     681794   0.13 %     855024   \n",
      "16                    16       301767   0.03 %      94176   0.02 %     207591   \n",
      "17                    17       185133   0.02 %      51445   0.01 %     133688   \n",
      "18                    18       131226   0.01 %      36042   0.01 %      95184   \n",
      "19                    19        11676   0.00 %       4075   0.00 %       7601   \n",
      "20                    20         5398   0.00 %       1720   0.00 %       3678   \n",
      "21                    21         2513   0.00 %        749   0.00 %       1764   \n",
      "22                    22         1092   0.00 %        272   0.00 %        820   \n",
      "23                    23          378   0.00 %         87   0.00 %        291   \n",
      "24                    24          116   0.00 %         21   0.00 %         95   \n",
      "25                    25           17   0.00 %          5   0.00 %         12   \n",
      "\n",
      "        %.2  \n",
      "0   62.53 %  \n",
      "1   17.07 %  \n",
      "2    6.07 %  \n",
      "3    3.49 %  \n",
      "4    2.45 %  \n",
      "5    1.85 %  \n",
      "6    1.44 %  \n",
      "7    1.14 %  \n",
      "8    0.91 %  \n",
      "9    0.75 %  \n",
      "10   0.61 %  \n",
      "11   0.50 %  \n",
      "12   0.40 %  \n",
      "13   0.32 %  \n",
      "14   0.22 %  \n",
      "15   0.16 %  \n",
      "16   0.04 %  \n",
      "17   0.03 %  \n",
      "18   0.02 %  \n",
      "19   0.00 %  \n",
      "20   0.00 %  \n",
      "21   0.00 %  \n",
      "22   0.00 %  \n",
      "23   0.00 %  \n",
      "24   0.00 %  \n",
      "25   0.00 %  }\n"
     ]
    }
   ],
   "source": [
    "print(tables_dict)"
   ]
  },
  {
   "cell_type": "code",
   "execution_count": null,
   "id": "2a31e4af",
   "metadata": {},
   "outputs": [
    {
     "name": "stdout",
     "output_type": "stream",
     "text": [
      "shape: (4, 5)\n",
      "┌──────────────────────┬─────────────┬───────────────┬───────┬───────┐\n",
      "│ Barcode              ┆ Name        ┆ Dataset       ┆ File1 ┆ File2 │\n",
      "│ ---                  ┆ ---         ┆ ---           ┆ ---   ┆ ---   │\n",
      "│ str                  ┆ str         ┆ str           ┆ str   ┆ str   │\n",
      "╞══════════════════════╪═════════════╪═══════════════╪═══════╪═══════╡\n",
      "│ 9758964677840593144  ┆ ENCFF340YVI ┆ ENCSR442FIY_2 ┆ null  ┆ null  │\n",
      "│ 15142513135076508350 ┆ ENCFF703DEV ┆ ENCSR442FIY_1 ┆ null  ┆ null  │\n",
      "│ 2943539977550304610  ┆ ENCFF802SFU ┆ ENCSR442FIY_1 ┆ null  ┆ null  │\n",
      "│ 18413901726945152902 ┆ ENCFF306ZPW ┆ ENCSR442FIY_2 ┆ null  ┆ null  │\n",
      "└──────────────────────┴─────────────┴───────────────┴───────┴───────┘\n"
     ]
    }
   ],
   "source": [
    "import polars as pl\n",
    "\n",
    "slim_metadata = pl.read_csv(\"/zata/zippy/ramirezc/gembs_smk/.test2/metadata.tsv\", separator=\"\\t\")\n",
    "\n",
    "grouped_read = slim_metadata.group_by(\n",
    "        \"Biological replicate(s)\", \"Technical replicate(s)\", maintain_order=True\n",
    "    ).agg(\n",
    "        \"File path\", \"File accession\", \"Experiment accession\"\n",
    "    ).with_columns([\n",
    "        pl.when(pl.col(\"File path\").cast(pl.List(pl.Utf8)).list.len() == 1)\n",
    "        .then(pl.col(\"File path\").list.get(0))\n",
    "        .alias(\"File\"),\n",
    "    \n",
    "        pl.when(pl.col(\"File path\").cast(pl.List(pl.Utf8)).list.len() == 2)\n",
    "        .then(pl.col(\"File path\").list.get(0))\n",
    "        .alias(\"File1\"),\n",
    "    \n",
    "        pl.when(pl.col(\"File path\").cast(pl.List(pl.Utf8)).list.len() == 2)\n",
    "        .then(pl.col(\"File path\").list.get(1))\n",
    "        .alias(\"File2\"),\n",
    "        \n",
    "        (pl.col(\"Experiment accession\").list.first() + pl.lit(\"_\") + pl.col(\"Biological replicate(s)\").cast(pl.String)).alias(\"Dataset\"),\n",
    "        pl.col(\"File accession\").list.join(\"_\").alias(\"Name\")\n",
    "    ]).with_columns(\n",
    "        pl.col(\"Name\").hash(seed=33).alias(\"Barcode\")\n",
    "    )\n",
    "\n",
    "if grouped_read[\"File\"].has_nulls:\n",
    "    gembs_metadata = grouped_read.select(\n",
    "        \"Barcode\", \"Name\", \"Dataset\", \"File1\", \"File2\"\n",
    "    ).cast(pl.String)\n",
    "elif grouped_read[\"File1\"].has_nulls and grouped_read[\"File2\"].has_nulls:\n",
    "    gembs_metadata = grouped_read.select(\n",
    "        \"Barcode\", \"Name\", \"Dataset\", \"File\"\n",
    "    ).cast(pl.String)\n",
    "\n",
    "print(gembs_metadata)\n",
    "\n",
    "# gembs_metadata.write_csv(output.csv)"
   ]
  },
  {
   "cell_type": "code",
   "execution_count": null,
   "id": "10c5700f",
   "metadata": {},
   "outputs": [],
   "source": []
  }
 ],
 "metadata": {
  "kernelspec": {
   "display_name": ".venv",
   "language": "python",
   "name": "python3"
  },
  "language_info": {
   "codemirror_mode": {
    "name": "ipython",
    "version": 3
   },
   "file_extension": ".py",
   "mimetype": "text/x-python",
   "name": "python",
   "nbconvert_exporter": "python",
   "pygments_lexer": "ipython3",
   "version": "3.12.9"
  }
 },
 "nbformat": 4,
 "nbformat_minor": 5
}
